{
 "cells": [
  {
   "cell_type": "code",
   "execution_count": 1,
   "metadata": {},
   "outputs": [],
   "source": [
    "import sys"
   ]
  },
  {
   "cell_type": "code",
   "execution_count": 2,
   "metadata": {},
   "outputs": [],
   "source": [
    "#%pip install numpy pandas #does not work"
   ]
  },
  {
   "cell_type": "code",
   "execution_count": 3,
   "metadata": {},
   "outputs": [],
   "source": [
    "#%pip install networkx pydot gdal==3.0.4 #does not work"
   ]
  },
  {
   "cell_type": "code",
   "execution_count": 4,
   "metadata": {},
   "outputs": [],
   "source": [
    "import networkx as nx"
   ]
  },
  {
   "cell_type": "markdown",
   "metadata": {},
   "source": [
    "## Graphs:"
   ]
  },
  {
   "cell_type": "code",
   "execution_count": 5,
   "metadata": {},
   "outputs": [],
   "source": [
    "TN = nx.Graph()"
   ]
  },
  {
   "cell_type": "code",
   "execution_count": 6,
   "metadata": {},
   "outputs": [],
   "source": [
    "TN.add_nodes_from([\n",
    "    ('A',  {'pois': ['bus_stop']}), \n",
    "    ('B',  {'pois': ['observation_tower']}), \n",
    "    ('D',  {'pois': []}), \n",
    "    ('E',  {'pois': ['resting_area']}), \n",
    "    ('K',  {'pois': ['shelter', 'drinking_water']}), \n",
    "    ('L1', {'pois': ['beach']}), \n",
    "    ('L2', {'pois': ['beach', 'campsite']}),\n",
    "    ('M',  {'pois': ['peak']}),\n",
    "    ('N',  {'pois': ['parking']}),\n",
    "    ('Q',  {'pois': []}),\n",
    "    ('X',  {'pois': ['castle', 'restaurant']}),\n",
    "    ('W1', {'pois': ['museum']}),\n",
    "    ('W2', {'pois': ['railway_station']}),\n",
    "    ('Z',  {'pois': ['tourist_information', 'visitor_centre']}),\n",
    "])"
   ]
  },
  {
   "cell_type": "code",
   "execution_count": 7,
   "metadata": {},
   "outputs": [],
   "source": [
    "TN.add_edges_from([\n",
    "    ('A',  'D',  {'length': 1, 'difficulty': 'easy'}),\n",
    "    ('D',  'E',  {'length': 1, 'difficulty': 'easy'}),\n",
    "    ('E',  'B',  {'length': 1, 'difficulty': 'easy'}),\n",
    "    ('E',  'K',  {'length': 3, 'difficulty': 'easy'}),\n",
    "    ('K',  'L1', {'length': 2, 'difficulty': 'easy'}),\n",
    "    ('K',  'L2', {'length': 2, 'difficulty': 'easy'}),\n",
    "    ('L1', 'L2', {'length': 1, 'difficulty': 'easy'}),\n",
    "    ('D',  'M',  {'length': 2, 'difficulty': 'hard'}),\n",
    "    ('M',  'Q',  {'length': 2, 'difficulty': 'hard'}),\n",
    "    ('K',  'Q',  {'length': 2, 'difficulty': 'hard'}),\n",
    "    ('N',  'Q',  {'length': 1, 'difficulty': 'easy'}),\n",
    "    ('K',  'X',  {'length': 2, 'difficulty': 'easy'}),\n",
    "    ('Q',  'X',  {'length': 2, 'difficulty': 'easy'}),\n",
    "    ('X',  'Z',  {'length': 2, 'difficulty': 'easy'}),\n",
    "    ('Z',  'W1', {'length': 1, 'difficulty': 'easy'}),\n",
    "    ('Z',  'W2', {'length': 2, 'difficulty': 'easy'}),\n",
    "])"
   ]
  },
  {
   "cell_type": "code",
   "execution_count": 8,
   "metadata": {},
   "outputs": [
    {
     "name": "stdout",
     "output_type": "stream",
     "text": [
      "A -D : 1 easy\n",
      "B -E : 1 easy\n",
      "D -E : 1 easy\n",
      "D -M : 2 hard\n",
      "E -K : 3 easy\n",
      "K -L1: 2 easy\n",
      "K -L2: 2 easy\n",
      "K -Q : 2 hard\n",
      "K -X : 2 easy\n",
      "L1-L2: 1 easy\n",
      "M -Q : 2 hard\n",
      "N -Q : 1 easy\n",
      "Q -X : 2 easy\n",
      "X -Z : 2 easy\n",
      "W1-Z : 1 easy\n",
      "W2-Z : 2 easy\n"
     ]
    }
   ],
   "source": [
    "for n1,n2 in TN.edges:\n",
    "    edgedata = TN.get_edge_data(n1,n2)\n",
    "    #print(n1 + \"-\" + n2 + \": \" + str(edgedata['length']) + \" \" + edgedata['difficulty'])\n",
    "    print(f\"{n1: <2}-{n2: <2}: {edgedata['length']} {edgedata['difficulty']}\")"
   ]
  },
  {
   "cell_type": "code",
   "execution_count": 9,
   "metadata": {},
   "outputs": [],
   "source": [
    "TN2 = TN.copy()"
   ]
  },
  {
   "cell_type": "code",
   "execution_count": 10,
   "metadata": {},
   "outputs": [],
   "source": [
    "TN2.add_edges_from([\n",
    "    ('B',  'D',  {'length': 2, 'difficulty': 'easy'}),\n",
    "    ('Q',  'K',  {'length': 2, 'difficulty': 'easy'}),\n",
    "])"
   ]
  },
  {
   "cell_type": "code",
   "execution_count": 11,
   "metadata": {},
   "outputs": [
    {
     "name": "stdout",
     "output_type": "stream",
     "text": [
      "A -D : 1 easy\n",
      "B -E : 1 easy\n",
      "B -D : 2 easy\n",
      "D -E : 1 easy\n",
      "D -M : 2 hard\n",
      "E -K : 3 easy\n",
      "K -L1: 2 easy\n",
      "K -L2: 2 easy\n",
      "K -Q : 2 easy\n",
      "K -X : 2 easy\n",
      "L1-L2: 1 easy\n",
      "M -Q : 2 hard\n",
      "N -Q : 1 easy\n",
      "Q -X : 2 easy\n",
      "X -Z : 2 easy\n",
      "W1-Z : 1 easy\n",
      "W2-Z : 2 easy\n"
     ]
    }
   ],
   "source": [
    "for n1,n2 in TN2.edges:\n",
    "    edgedata = TN2.get_edge_data(n1,n2)\n",
    "    #print(n1 + \"-\" + n2 + \": \" + str(edgedata['length']) + \" \" + edgedata['difficulty'])\n",
    "    print(f\"{n1: <2}-{n2: <2}: {edgedata['length']} {edgedata['difficulty']}\")"
   ]
  },
  {
   "cell_type": "code",
   "execution_count": 12,
   "metadata": {},
   "outputs": [
    {
     "data": {
      "text/plain": [
       "['N', 'Q', 'K', 'L2']"
      ]
     },
     "execution_count": 12,
     "metadata": {},
     "output_type": "execute_result"
    }
   ],
   "source": [
    "nx.shortest_path(TN, 'N', 'L2', lambda n1,n2,ed: ed['length'])"
   ]
  },
  {
   "cell_type": "code",
   "execution_count": 13,
   "metadata": {},
   "outputs": [],
   "source": [
    "TN_easy = nx.Graph([(n1,n2,ed) for n1,n2,ed in TN.edges(data=True) if ed['difficulty'] == 'easy'])"
   ]
  },
  {
   "cell_type": "code",
   "execution_count": 14,
   "metadata": {},
   "outputs": [
    {
     "data": {
      "text/plain": [
       "['N', 'Q', 'X', 'K', 'L2']"
      ]
     },
     "execution_count": 14,
     "metadata": {},
     "output_type": "execute_result"
    }
   ],
   "source": [
    "nx.shortest_path(TN_easy, 'N', 'L2', lambda n1,n2,ed: ed['length'])"
   ]
  },
  {
   "cell_type": "markdown",
   "metadata": {},
   "source": [
    "## User profile:"
   ]
  },
  {
   "cell_type": "code",
   "execution_count": 15,
   "metadata": {},
   "outputs": [],
   "source": [
    "tripRangeMinLength, tripRangeMaxLength = 5.0, 20.0"
   ]
  },
  {
   "cell_type": "code",
   "execution_count": 16,
   "metadata": {},
   "outputs": [],
   "source": [
    "tripDifficulties = ['easy', 'hard']"
   ]
  },
  {
   "cell_type": "code",
   "execution_count": null,
   "metadata": {},
   "outputs": [],
   "source": []
  },
  {
   "cell_type": "markdown",
   "metadata": {},
   "source": [
    "## Start \\& destination nodes:"
   ]
  },
  {
   "cell_type": "code",
   "execution_count": 34,
   "metadata": {},
   "outputs": [],
   "source": [
    "startTN = {'A', 'N'} "
   ]
  },
  {
   "cell_type": "code",
   "execution_count": 45,
   "metadata": {},
   "outputs": [],
   "source": [
    "destTN = {'N', 'W2'}"
   ]
  },
  {
   "cell_type": "markdown",
   "metadata": {},
   "source": [
    "## Index computation:"
   ]
  },
  {
   "cell_type": "markdown",
   "metadata": {},
   "source": [
    "1. Assign the value of PoiDist as minp n to each node n in the network (at least to the\n",
    "reachable nodes for P - this can also be done dynamically during further steps)."
   ]
  },
  {
   "cell_type": "code",
   "execution_count": 46,
   "metadata": {},
   "outputs": [],
   "source": [
    "min_p = [(n,0) for n in TN.nodes()] # no POI preference implemented yet"
   ]
  },
  {
   "cell_type": "code",
   "execution_count": 47,
   "metadata": {},
   "outputs": [
    {
     "data": {
      "text/plain": [
       "[('A', 0),\n",
       " ('B', 0),\n",
       " ('D', 0),\n",
       " ('E', 0),\n",
       " ('K', 0),\n",
       " ('L1', 0),\n",
       " ('L2', 0),\n",
       " ('M', 0),\n",
       " ('N', 0),\n",
       " ('Q', 0),\n",
       " ('X', 0),\n",
       " ('W1', 0),\n",
       " ('W2', 0),\n",
       " ('Z', 0)]"
      ]
     },
     "execution_count": 47,
     "metadata": {},
     "output_type": "execute_result"
    }
   ],
   "source": [
    "min_p"
   ]
  },
  {
   "cell_type": "markdown",
   "metadata": {},
   "source": [
    "2. Generate a cover of P-matching connecting trips CT Set in their increasing order\n",
    "of length, by BFS (breadth-first search), utilizing the minp n values so that each\n",
    "of these trips will be a direct connecting trip with an optional spike to the closest\n",
    "preferred POI. If StartT N ∩ DestT N != 0  than it must be separately done for\n",
    "each a ∈ StartT N ∩ DestT N towards DestT N \\ {a}, so that no returning trips\n",
    "are included."
   ]
  },
  {
   "cell_type": "code",
   "execution_count": 48,
   "metadata": {},
   "outputs": [],
   "source": [
    "CTSet = []\n",
    "for sn in startTN:\n",
    "    destTN2 = destTN.copy()\n",
    "    destTN2.discard(sn)\n",
    "    for dn in destTN2:\n",
    "        for p in nx.all_simple_paths(TN, sn, dn):\n",
    "            CTSet.append(p)"
   ]
  },
  {
   "cell_type": "code",
   "execution_count": 49,
   "metadata": {},
   "outputs": [
    {
     "data": {
      "text/plain": [
       "[['N', 'Q', 'M', 'D', 'E', 'K', 'X', 'Z', 'W2'],\n",
       " ['N', 'Q', 'K', 'X', 'Z', 'W2'],\n",
       " ['N', 'Q', 'X', 'Z', 'W2'],\n",
       " ['A', 'D', 'E', 'K', 'Q', 'N'],\n",
       " ['A', 'D', 'E', 'K', 'X', 'Q', 'N'],\n",
       " ['A', 'D', 'M', 'Q', 'N'],\n",
       " ['A', 'D', 'E', 'K', 'Q', 'X', 'Z', 'W2'],\n",
       " ['A', 'D', 'E', 'K', 'X', 'Z', 'W2'],\n",
       " ['A', 'D', 'M', 'Q', 'K', 'X', 'Z', 'W2'],\n",
       " ['A', 'D', 'M', 'Q', 'X', 'Z', 'W2']]"
      ]
     },
     "execution_count": 49,
     "metadata": {},
     "output_type": "execute_result"
    }
   ],
   "source": [
    "CTSet"
   ]
  },
  {
   "cell_type": "markdown",
   "metadata": {},
   "source": [
    "3. Assign to each non-spike section contained by trips of CT Set the length of the\n",
    "shortest trip of such (denoted by mintD s ). The value length(s)/mintD s will be the\n",
    "candidate for the eventual w CTV I of that section."
   ]
  },
  {
   "cell_type": "code",
   "execution_count": null,
   "metadata": {},
   "outputs": [],
   "source": []
  },
  {
   "cell_type": "markdown",
   "metadata": {},
   "source": [
    "4. Assign the value of TripDist as mint n and TripPoiDist as mint p n w.r.t. P to each\n",
    "node n in the network (its reachable part for P) and similarly, mint s , mint p s for\n",
    "sections s respectively. 12\n",
    "12 This step can be done by generating an optimized cover of direct connecting trips DCT Set, regardless\n",
    "of POI visits, and (optional) spikes connected to these trips from each node. Note that in some cases, the\n",
    "two values mint n and mint p n will be based on different trips, and neither of them must be based on a direct\n",
    "connecting trip in which node n appears. Furthermore, if retOnly p is true then this step must be done separately\n",
    "for each a ∈ StartT N ∩ DestT N, storing possibly multiple values for each (a, n).5. Find and generate covering loops LT Set each having at least one section not yet\n",
    "scored by w CTV I , in their increasing order of LoopLengthPoiDist, which is the\n",
    "value mintL l = min({mint p k + length(l)|k ∈ nodes(l)} ∪ {mint m + length(l) +\n",
    "minp n |m, n ∈ nodes(l)}. This is going to be the length of the trip giving the weight\n",
    "value candidates for LTVI of the circle sections in the loop. Assign the value\n",
    "mintL l to each loop l. 13\n",
    "6. Assign to each circle section s contained by loops of LT Set the value of mintL l\n",
    "by a containing loop for which it is minimal. The value length(s)/mintL l will be\n",
    "the candidate for the eventual w LTV I of that section.\n",
    "7. Remaining sections not covered yet by Steps 3 and 6 can only be parts of back-\n",
    "and-forth sections (as parts of spikes or loops) of profile-relevant trips. Prune\n",
    "them if poiTypes p is non-empty: remove sections (set their mint s , mint p s values\n",
    "as ∞) not being part of any loops of Step 6 or spikes leading to a preferred POI.\n",
    "8. Assign to each remaining section having finite mint p s the value minS s =\n",
    "min({mint p s } ∪ {mintL l |s ∈ sections(l)}). The value length(s)/mintS s will be\n",
    "the candidate for the eventual w STV I of that section.\n",
    "9. Upscale the weights for short trips: if any value assigned to sections in Steps 3,\n",
    "6, 8 is lower than min(tripRange p ), then set it explicitly to to min(tripRange p )\n",
    "so that the weight will be the maximal possible value (c.f. MatchT PD).\n",
    "10. Aggregate (sum by the respective trip variety index type CTV I, LTV I, STV I) and\n",
    "output the computed section weight values w CTV I , w LT"
   ]
  },
  {
   "cell_type": "code",
   "execution_count": null,
   "metadata": {},
   "outputs": [],
   "source": []
  }
 ],
 "metadata": {
  "kernelspec": {
   "display_name": "Python 3",
   "language": "python",
   "name": "python3"
  },
  "language_info": {
   "codemirror_mode": {
    "name": "ipython",
    "version": 3
   },
   "file_extension": ".py",
   "mimetype": "text/x-python",
   "name": "python",
   "nbconvert_exporter": "python",
   "pygments_lexer": "ipython3",
   "version": "3.7.3"
  }
 },
 "nbformat": 4,
 "nbformat_minor": 2
}
